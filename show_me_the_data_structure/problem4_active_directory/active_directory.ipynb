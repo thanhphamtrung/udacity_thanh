{
 "cells": [
  {
   "cell_type": "code",
   "execution_count": 1,
   "metadata": {},
   "outputs": [],
   "source": [
    "class Group(object):\n",
    "    def __init__(self, _name):\n",
    "        self.name = _name\n",
    "        self.groups = []\n",
    "        self.users = []\n",
    "\n",
    "    def add_group(self, group):\n",
    "        self.groups.append(group)\n",
    "\n",
    "    def add_user(self, user):\n",
    "        self.users.append(user)\n",
    "\n",
    "    def get_groups(self):\n",
    "        return self.groups\n",
    "\n",
    "    def get_users(self):\n",
    "        return self.users\n",
    "\n",
    "    def get_name(self):\n",
    "        return self.name"
   ]
  },
  {
   "cell_type": "code",
   "execution_count": 11,
   "metadata": {},
   "outputs": [],
   "source": [
    "def is_user_in_group(user, group):\n",
    "    \"\"\"\n",
    "    Return True if user is in the group, False otherwise.\n",
    "\n",
    "    Args:\n",
    "      user(str): user name/id\n",
    "      group(class:Group): group to check user membership against\n",
    "    \"\"\"\n",
    "    \n",
    "    for u in group.get_users():\n",
    "        if u == user:\n",
    "            return True\n",
    "    \n",
    "    for g in group.get_groups():\n",
    "        if is_user_in_group(user, g):\n",
    "            return True\n",
    "    \n",
    "    return False"
   ]
  },
  {
   "cell_type": "code",
   "execution_count": 12,
   "metadata": {},
   "outputs": [
    {
     "name": "stdout",
     "output_type": "stream",
     "text": [
      "True\n",
      "False\n"
     ]
    }
   ],
   "source": [
    "# Add your own test cases: include at least three test cases\n",
    "# and two of them must include edge cases, such as null, empty or very large values\n",
    "\n",
    "# Test Case 1\n",
    "parentGr = Group(\"parent\")\n",
    "childGr = Group(\"child\")\n",
    "sub_childGr = Group(\"subchild\")\n",
    "\n",
    "sub_child_user = \"marry\"\n",
    "sub_childGr.add_user(sub_child_user)\n",
    "\n",
    "childGr.add_group(sub_childGr)\n",
    "parentGr.add_group(childGr)\n",
    "\n",
    "print(is_user_in_group('marry', parentGr))  # expect True\n",
    "print(is_user_in_group('henry', parentGr))  # expect False\n"
   ]
  },
  {
   "cell_type": "code",
   "execution_count": 7,
   "metadata": {},
   "outputs": [],
   "source": [
    "# Test Case 2\n",
    "parentGr = Group(\"parent\")\n",
    "childGr = Group(\"child\")\n",
    "sub_childGr = Group(\"subchild\")\n",
    "\n",
    "sub_child_user = \"marry\"\n",
    "sub_childGr.add_user(sub_child_user)\n",
    "\n",
    "childGr.add_group(sub_childGr)\n",
    "parentGr.add_group(childGr)\n",
    "\n",
    "# Test Case 3"
   ]
  },
  {
   "cell_type": "code",
   "execution_count": null,
   "metadata": {},
   "outputs": [],
   "source": []
  }
 ],
 "metadata": {
  "kernelspec": {
   "display_name": "Python 3.10.6 64-bit",
   "language": "python",
   "name": "python3"
  },
  "language_info": {
   "codemirror_mode": {
    "name": "ipython",
    "version": 3
   },
   "file_extension": ".py",
   "mimetype": "text/x-python",
   "name": "python",
   "nbconvert_exporter": "python",
   "pygments_lexer": "ipython3",
   "version": "3.10.6"
  },
  "orig_nbformat": 4,
  "vscode": {
   "interpreter": {
    "hash": "aee8b7b246df8f9039afb4144a1f6fd8d2ca17a180786b69acc140d282b71a49"
   }
  }
 },
 "nbformat": 4,
 "nbformat_minor": 2
}
