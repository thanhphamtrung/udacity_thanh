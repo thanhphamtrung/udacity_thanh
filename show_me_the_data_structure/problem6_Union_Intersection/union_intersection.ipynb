{
 "cells": [
  {
   "cell_type": "code",
   "execution_count": 44,
   "metadata": {},
   "outputs": [],
   "source": [
    "class Node:\n",
    "    def __init__(self, value):\n",
    "        self.value = value\n",
    "        self.next = None\n",
    "\n",
    "    def __repr__(self):\n",
    "        return str(self.value)"
   ]
  },
  {
   "cell_type": "code",
   "execution_count": 49,
   "metadata": {},
   "outputs": [],
   "source": [
    "class LinkedList:\n",
    "    def __init__(self):\n",
    "        self.head = None\n",
    "\n",
    "    def __str__(self):\n",
    "        cur_head = self.head\n",
    "        out_string = \"\"\n",
    "        while cur_head:\n",
    "            out_string += str(cur_head.value) + \" -> \"\n",
    "            cur_head = cur_head.next\n",
    "        if out_string == \"\":\n",
    "            return \"Not thing to show\"\n",
    "        return out_string\n",
    "\n",
    "\n",
    "    def append(self, value):\n",
    "\n",
    "        if self.head is None:\n",
    "            self.head = Node(value)\n",
    "            return\n",
    "\n",
    "        node = self.head\n",
    "        while node.next:\n",
    "            node = node.next\n",
    "\n",
    "        node.next = Node(value)\n",
    "\n",
    "    def size(self):\n",
    "        size = 0\n",
    "        node = self.head\n",
    "        while node:\n",
    "            size += 1\n",
    "            node = node.next\n",
    "\n",
    "        return size"
   ]
  },
  {
   "cell_type": "code",
   "execution_count": 50,
   "metadata": {},
   "outputs": [],
   "source": [
    "def union(llist_1, llist_2):\n",
    "    union_ans = LinkedList()\n",
    "    if llist_1.head is None and llist_2.head is None:\n",
    "        return None\n",
    "    set1 = set()\n",
    "    set2 = set()\n",
    "    \n",
    "    cur1 = llist_1.head\n",
    "    while cur1:\n",
    "        set1.add(cur1.value)\n",
    "        cur1 = cur1.next\n",
    "    \n",
    "    cur2 = llist_2.head\n",
    "    while cur2:\n",
    "        set2.add(cur2.value)\n",
    "        cur2 = cur2.next\n",
    "    \n",
    "    temp = set1.union(set2)\n",
    "    for i in temp:\n",
    "        union_ans.append(i)\n",
    "    \n",
    "    return union_ans\n",
    "    "
   ]
  },
  {
   "cell_type": "code",
   "execution_count": 51,
   "metadata": {},
   "outputs": [],
   "source": [
    "def intersection(llist_1, llist_2):\n",
    "    intersection_ans = LinkedList()\n",
    "    if llist_1.head is None and llist_2.head is None:\n",
    "        return None\n",
    "    set1 = set()\n",
    "    set2 = set()\n",
    "    \n",
    "    cur1 = llist_1.head\n",
    "    while cur1:\n",
    "        set1.add(cur1.value)\n",
    "        cur1 = cur1.next\n",
    "    \n",
    "    cur2 = llist_2.head\n",
    "    while cur2:\n",
    "        set2.add(cur2.value)\n",
    "        cur2 = cur2.next\n",
    "\n",
    "    temp = set1.intersection(set2)\n",
    "    \n",
    "    for i in temp:\n",
    "        intersection_ans.append(i)\n",
    "\n",
    "    return intersection_ans"
   ]
  },
  {
   "cell_type": "code",
   "execution_count": 52,
   "metadata": {},
   "outputs": [
    {
     "name": "stdout",
     "output_type": "stream",
     "text": [
      "1 -> 2 -> 3 -> 4 -> 5 -> 7 -> 8 -> \n",
      "3 -> 4 -> \n"
     ]
    }
   ],
   "source": [
    "# Test case 1\n",
    "\n",
    "linked_list_1 = LinkedList()\n",
    "linked_list_2 = LinkedList()\n",
    "\n",
    "# element_1 = [3,2,4,35,6,65,6,4,3,21]\n",
    "# element_2 = [6,32,4,9,6,1,11,21,1]\n",
    "\n",
    "element_1 = [1,2,3,4,5]\n",
    "element_2 = [3,4,7,8]\n",
    "\n",
    "for i in element_1:\n",
    "    linked_list_1.append(i)\n",
    "\n",
    "for i in element_2:\n",
    "    linked_list_2.append(i)\n",
    "\n",
    "print (union(linked_list_1,linked_list_2))\n",
    "print (intersection(linked_list_1,linked_list_2))"
   ]
  },
  {
   "cell_type": "code",
   "execution_count": 54,
   "metadata": {},
   "outputs": [
    {
     "name": "stdout",
     "output_type": "stream",
     "text": [
      "65 -> 2 -> 35 -> 3 -> 4 -> 6 -> 1 -> 7 -> 8 -> 9 -> 11 -> 21 -> 23 -> \n",
      "Not thing to show\n"
     ]
    }
   ],
   "source": [
    "# Test case 2\n",
    "\n",
    "linked_list_3 = LinkedList()\n",
    "linked_list_4 = LinkedList()\n",
    "\n",
    "element_1 = [3,2,4,35,6,65,6,4,3,23]\n",
    "element_2 = [1,7,8,9,11,21,1]\n",
    "\n",
    "for i in element_1:\n",
    "    linked_list_3.append(i)\n",
    "\n",
    "for i in element_2:\n",
    "    linked_list_4.append(i)\n",
    "\n",
    "print (union(linked_list_3,linked_list_4))\n",
    "print (intersection(linked_list_3,linked_list_4))"
   ]
  },
  {
   "cell_type": "code",
   "execution_count": null,
   "metadata": {},
   "outputs": [],
   "source": []
  }
 ],
 "metadata": {
  "kernelspec": {
   "display_name": "Python 3.10.6 64-bit",
   "language": "python",
   "name": "python3"
  },
  "language_info": {
   "codemirror_mode": {
    "name": "ipython",
    "version": 3
   },
   "file_extension": ".py",
   "mimetype": "text/x-python",
   "name": "python",
   "nbconvert_exporter": "python",
   "pygments_lexer": "ipython3",
   "version": "3.10.6"
  },
  "orig_nbformat": 4,
  "vscode": {
   "interpreter": {
    "hash": "aee8b7b246df8f9039afb4144a1f6fd8d2ca17a180786b69acc140d282b71a49"
   }
  }
 },
 "nbformat": 4,
 "nbformat_minor": 2
}
