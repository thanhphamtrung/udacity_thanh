{
 "cells": [
  {
   "cell_type": "code",
   "execution_count": 196,
   "metadata": {},
   "outputs": [],
   "source": [
    "import sys\n"
   ]
  },
  {
   "cell_type": "code",
   "execution_count": 279,
   "metadata": {},
   "outputs": [],
   "source": [
    "class Node:\n",
    "    def __init__(self, freq = 0, symbol = None, left=None, right=None):\n",
    "        self.freq = freq\n",
    "        self.symbol = symbol\n",
    "        self.left = left\n",
    "        self.right = right\n",
    "        self.huff = ''\n",
    "\n",
    "    def __lt__(self, nxt):\n",
    "        return self.freq < nxt.freq\n",
    "\n",
    "class Tree:\n",
    "    def __init__(self,root =None):\n",
    "        self.root = root"
   ]
  },
  {
   "cell_type": "code",
   "execution_count": 280,
   "metadata": {},
   "outputs": [],
   "source": [
    "def getFreqDict(data):\n",
    "    char_frequency = dict()\n",
    "    for char in data:\n",
    "        char_frequency[char] = char_frequency.get(char, 0) + 1\n",
    "\n",
    "    return char_frequency\n"
   ]
  },
  {
   "cell_type": "code",
   "execution_count": 281,
   "metadata": {},
   "outputs": [],
   "source": [
    "import heapq\n",
    "\n",
    "\n",
    "def new_cmp_lt(self, a, b):\n",
    "    return a.freq < b.freq\n",
    "\n",
    "\n",
    "heapq.cmp_lt = new_cmp_lt\n",
    "\n",
    "\n",
    "def createHeap(freqDict):\n",
    "    heap = []\n",
    "    heapq.heapify(heap)\n",
    "    for key in freqDict:\n",
    "        new_node = Node(freq=freqDict[key], symbol=key)\n",
    "        heapq.heappush(heap, new_node)\n",
    "    return heap\n"
   ]
  },
  {
   "cell_type": "code",
   "execution_count": 282,
   "metadata": {},
   "outputs": [],
   "source": [
    "def is_leaf_node(node):\n",
    "    if node.left is None and node.right is None:\n",
    "        return True\n",
    "    return False\n",
    "\n"
   ]
  },
  {
   "cell_type": "code",
   "execution_count": 288,
   "metadata": {},
   "outputs": [],
   "source": [
    "encodedMap = {}\n",
    "def visit_node(root, huff_code = ''):\n",
    "    if is_leaf_node(root):\n",
    "        encodedMap[root.symbol] = huff_code\n",
    "    else:\n",
    "        visit_node(root.left,huff_code=huff_code +'0')\n",
    "        visit_node(root.right,huff_code=huff_code +'1')\n",
    "\n",
    "def huffman_encoding(data):\n",
    "    freqDict = getFreqDict(data)\n",
    "    heap = createHeap(freqDict)\n",
    "    encodedData = ''\n",
    "    while len(heap) > 1:    \n",
    "        node1 = heapq.heappop(heap)\n",
    "        node1.huff = '0'\n",
    "        node2 = heapq.heappop(heap)\n",
    "        node2.huff = '1'\n",
    "        new_node = Node(left=node1,right=node2,freq=node1.freq + node2.freq)\n",
    "        heapq.heappush(heap, new_node)\n",
    "    tree = Tree(root= heap[0])\n",
    "    \n",
    "    visit_node(heapq.heappop(heap))\n",
    "    for char in data:\n",
    "        encodedData += encodedMap[char]\n",
    "    return encodedData, tree\n",
    "\n",
    "def huffman_decoding(data, tree):\n",
    "    decoded_data = ''\n",
    "    node = tree.root\n",
    "    for bit in data:\n",
    "        if bit == '0':\n",
    "            node = node.left\n",
    "        else:\n",
    "            node = node.right\n",
    "        # If a leaf is reached it is possible to match the code so far\n",
    "        # parsed with its corresponding character\n",
    "        if is_leaf_node(node):\n",
    "            # Updates decoded data\n",
    "            decoded_data += node.symbol\n",
    "            # Gets back to Huffman tree root\n",
    "            node = tree.root\n",
    "    return decoded_data"
   ]
  },
  {
   "cell_type": "code",
   "execution_count": 289,
   "metadata": {},
   "outputs": [
    {
     "name": "stdout",
     "output_type": "stream",
     "text": [
      "The size of the data is: 69\n",
      "\n",
      "The content of the data is: The bird is the word\n",
      "\n",
      "The size of the encoded data is: 36\n",
      "\n",
      "The content of the encoded data is: 1000111111100100001101110000101110110110100011111111001101010011100001\n",
      "\n",
      "The size of the decoded data is: 69\n",
      "\n",
      "The content of the encoded data is: The bird is the word\n",
      "\n"
     ]
    }
   ],
   "source": [
    "if __name__ == \"__main__\":\n",
    "    codes = {}\n",
    "\n",
    "    a_great_sentence = \"The bird is the word\"\n",
    "\n",
    "    print (\"The size of the data is: {}\\n\".format(sys.getsizeof(a_great_sentence)))\n",
    "    print (\"The content of the data is: {}\\n\".format(a_great_sentence))\n",
    "\n",
    "    encoded_data, tree = huffman_encoding(a_great_sentence)\n",
    "\n",
    "    print (\"The size of the encoded data is: {}\\n\".format(sys.getsizeof(int(encoded_data, base=2))))\n",
    "    print (\"The content of the encoded data is: {}\\n\".format(encoded_data))\n",
    "\n",
    "    decoded_data = huffman_decoding(encoded_data, tree)\n",
    "\n",
    "    print (\"The size of the decoded data is: {}\\n\".format(sys.getsizeof(decoded_data)))\n",
    "    print (\"The content of the encoded data is: {}\\n\".format(decoded_data))"
   ]
  },
  {
   "cell_type": "code",
   "execution_count": null,
   "metadata": {},
   "outputs": [],
   "source": []
  }
 ],
 "metadata": {
  "kernelspec": {
   "display_name": "Python 3.10.6 64-bit",
   "language": "python",
   "name": "python3"
  },
  "language_info": {
   "codemirror_mode": {
    "name": "ipython",
    "version": 3
   },
   "file_extension": ".py",
   "mimetype": "text/x-python",
   "name": "python",
   "nbconvert_exporter": "python",
   "pygments_lexer": "ipython3",
   "version": "3.10.6"
  },
  "orig_nbformat": 4,
  "vscode": {
   "interpreter": {
    "hash": "aee8b7b246df8f9039afb4144a1f6fd8d2ca17a180786b69acc140d282b71a49"
   }
  }
 },
 "nbformat": 4,
 "nbformat_minor": 2
}
