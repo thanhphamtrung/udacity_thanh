{
 "cells": [
  {
   "cell_type": "code",
   "execution_count": 1,
   "metadata": {},
   "outputs": [],
   "source": [
    "import os\n",
    "\n",
    "\n",
    "def find_files(suffix, path):\n",
    "    \"\"\"\n",
    "    Find all files beneath path with file name suffix.\n",
    "\n",
    "    Note that a path may contain further subdirectories\n",
    "    and those subdirectories may also contain further subdirectories.\n",
    "\n",
    "    There are no limit to the depth of the subdirectories can be.\n",
    "\n",
    "    Args:\n",
    "      suffix(str): suffix if the file name to be found\n",
    "      path(str): path of the file system\n",
    "\n",
    "    Returns:\n",
    "       a list of paths\n",
    "    \"\"\"\n",
    "    if path == None:\n",
    "        return None\n",
    "    file_list = []\n",
    "    dir_list = os.listdir(path)\n",
    "    for dir in dir_list:\n",
    "        file = os.path.join(path, dir)\n",
    "        if (os.path.isfile(file) and file.endswith(suffix)):\n",
    "            file_list.append(file)\n",
    "        elif os.path.isdir(file):\n",
    "            file_list += find_files(suffix, file)\n",
    "    return file_list\n"
   ]
  },
  {
   "cell_type": "code",
   "execution_count": 5,
   "metadata": {},
   "outputs": [
    {
     "name": "stdout",
     "output_type": "stream",
     "text": [
      "['/Users/thanhpham/Library/Mobile Documents/com~apple~CloudDocs/udacity/udacity_thanh/show_me_the_data_structure/file-recursion/testdir/subdir3/subsubdir1/b.c', '/Users/thanhpham/Library/Mobile Documents/com~apple~CloudDocs/udacity/udacity_thanh/show_me_the_data_structure/file-recursion/testdir/t1.c', '/Users/thanhpham/Library/Mobile Documents/com~apple~CloudDocs/udacity/udacity_thanh/show_me_the_data_structure/file-recursion/testdir/subdir5/a.c', '/Users/thanhpham/Library/Mobile Documents/com~apple~CloudDocs/udacity/udacity_thanh/show_me_the_data_structure/file-recursion/testdir/subdir1/a.c']\n"
     ]
    }
   ],
   "source": [
    "# Add your own test cases: include at least three test cases\n",
    "# and two of them must include edge cases, such as null, empty or very large values\n",
    "# Test Case 1\n",
    "# Find all files with '.c' from root folder\n",
    "print(find_files(\n",
    "    '.c', '/Users/thanhpham/Library/Mobile Documents/com~apple~CloudDocs/udacity/udacity_thanh/show_me_the_data_structure/file-recursion/testdir'))\n"
   ]
  },
  {
   "cell_type": "code",
   "execution_count": 6,
   "metadata": {},
   "outputs": [
    {
     "name": "stdout",
     "output_type": "stream",
     "text": [
      "['/Users/thanhpham/Library/Mobile Documents/com~apple~CloudDocs/udacity/udacity_thanh/show_me_the_data_structure/file-recursion/testdir/subdir3/subsubdir1/b.c', '/Users/thanhpham/Library/Mobile Documents/com~apple~CloudDocs/udacity/udacity_thanh/show_me_the_data_structure/file-recursion/testdir/t1.c', '/Users/thanhpham/Library/Mobile Documents/com~apple~CloudDocs/udacity/udacity_thanh/show_me_the_data_structure/file-recursion/testdir/subdir5/a.c', '/Users/thanhpham/Library/Mobile Documents/com~apple~CloudDocs/udacity/udacity_thanh/show_me_the_data_structure/file-recursion/testdir/subdir1/a.c']\n"
     ]
    }
   ],
   "source": [
    "# Test Case 2\n",
    "# Find all files with '.c' from a empty folder\n",
    "print(find_files('.c', '/Users/thanhpham/Library/Mobile Documents/com~apple~CloudDocs/udacity/udacity_thanh/show_me_the_data_structure/file-recursion/testdir'))\n"
   ]
  },
  {
   "cell_type": "code",
   "execution_count": 7,
   "metadata": {},
   "outputs": [
    {
     "name": "stdout",
     "output_type": "stream",
     "text": [
      "['/Users/thanhpham/Library/Mobile Documents/com~apple~CloudDocs/udacity/udacity_thanh/show_me_the_data_structure/file-recursion/testdir/subdir3/subsubdir1/b.c', '/Users/thanhpham/Library/Mobile Documents/com~apple~CloudDocs/udacity/udacity_thanh/show_me_the_data_structure/file-recursion/testdir/t1.c', '/Users/thanhpham/Library/Mobile Documents/com~apple~CloudDocs/udacity/udacity_thanh/show_me_the_data_structure/file-recursion/testdir/subdir5/a.c', '/Users/thanhpham/Library/Mobile Documents/com~apple~CloudDocs/udacity/udacity_thanh/show_me_the_data_structure/file-recursion/testdir/subdir1/a.c']\n"
     ]
    }
   ],
   "source": [
    "# Test Case 3\n",
    "# Find all files with '.c' from a folder does not contain '.c' suffix file\n",
    "print(find_files('.c', '/Users/thanhpham/Library/Mobile Documents/com~apple~CloudDocs/udacity/udacity_thanh/show_me_the_data_structure/file-recursion/testdir'))"
   ]
  },
  {
   "cell_type": "code",
   "execution_count": null,
   "metadata": {},
   "outputs": [],
   "source": []
  }
 ],
 "metadata": {
  "kernelspec": {
   "display_name": "Python 3.10.6 64-bit",
   "language": "python",
   "name": "python3"
  },
  "language_info": {
   "codemirror_mode": {
    "name": "ipython",
    "version": 3
   },
   "file_extension": ".py",
   "mimetype": "text/x-python",
   "name": "python",
   "nbconvert_exporter": "python",
   "pygments_lexer": "ipython3",
   "version": "3.10.6"
  },
  "orig_nbformat": 4,
  "vscode": {
   "interpreter": {
    "hash": "aee8b7b246df8f9039afb4144a1f6fd8d2ca17a180786b69acc140d282b71a49"
   }
  }
 },
 "nbformat": 4,
 "nbformat_minor": 2
}
